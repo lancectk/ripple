{
 "cells": [
  {
   "cell_type": "code",
   "execution_count": 3,
   "metadata": {
    "collapsed": true
   },
   "outputs": [],
   "source": [
    "from neo4j.v1 import GraphDatabase, basic_auth"
   ]
  },
  {
   "cell_type": "code",
   "execution_count": 5,
   "metadata": {
    "collapsed": true
   },
   "outputs": [],
   "source": [
    "driver = GraphDatabase.driver(\"bolt://localhost:7687\", auth=basic_auth(\"neo4j\", \"password\"))"
   ]
  },
  {
   "cell_type": "code",
   "execution_count": 6,
   "metadata": {
    "collapsed": true
   },
   "outputs": [],
   "source": [
    "session = driver.session()"
   ]
  },
  {
   "cell_type": "code",
   "execution_count": 7,
   "metadata": {
    "collapsed": true
   },
   "outputs": [],
   "source": [
    "result = session.run(\"MERGE (sv:Vertex {vertex_id:{sv_id},temporal_graph_id:{temporal_graph_id}})\" +\n",
    "                     \" RETURN sv\", {'sv_id': 'vert_1', 'temporal_graph_id': 'temp_graph_id1'})\n",
    "\n",
    "# MERGE (m:Movie { title:\"Cloud Atlas\" })\n",
    "# ON CREATE SET m.released = 2012\n",
    "# RETURN m"
   ]
  },
  {
   "cell_type": "code",
   "execution_count": 8,
   "metadata": {},
   "outputs": [
    {
     "data": {
      "text/plain": [
       "<neo4j.v1.result.BoltStatementResult at 0x1093897b8>"
      ]
     },
     "execution_count": 8,
     "metadata": {},
     "output_type": "execute_result"
    }
   ],
   "source": [
    "result"
   ]
  },
  {
   "cell_type": "code",
   "execution_count": 9,
   "metadata": {},
   "outputs": [
    {
     "name": "stdout",
     "output_type": "stream",
     "text": [
      "<neo4j.v1.result.BoltStatementResult object at 0x1093897b8>\n"
     ]
    }
   ],
   "source": [
    "print(result)"
   ]
  },
  {
   "cell_type": "code",
   "execution_count": 29,
   "metadata": {
    "collapsed": true
   },
   "outputs": [],
   "source": [
    "result = session.run(\"\"\"MATCH (sv:Vertex) WHERE sv.vertex_id={sv_id} AND sv.temporal_graph_id={temporal_graph_id} RETURN sv.vertex_id\"\"\", {'sv_id': 'vert_1', 'temporal_graph_id': 'temp_graph_id1'})"
   ]
  },
  {
   "cell_type": "code",
   "execution_count": 25,
   "metadata": {
    "collapsed": true
   },
   "outputs": [],
   "source": [
    "result = session.run(\"\"\"MATCH (sv:Vertex) WHERE sv.vertex_id='vert_1' AND sv.temporal_graph_id='temp_graph_id1' RETURN sv.vertex_id\"\"\")"
   ]
  },
  {
   "cell_type": "code",
   "execution_count": null,
   "metadata": {
    "collapsed": true
   },
   "outputs": [],
   "source": [
    "MATCH (sv:Vertex) WHERE sv.vertex_id='vert_1' AND sv.temporal_graph_id='temp_graph_id1' RETURN sv.vertex_id"
   ]
  },
  {
   "cell_type": "code",
   "execution_count": 30,
   "metadata": {},
   "outputs": [
    {
     "name": "stdout",
     "output_type": "stream",
     "text": [
      "vert_1\n"
     ]
    }
   ],
   "source": [
    "for res in result:\n",
    "    print(res['sv.vertex_id'])"
   ]
  },
  {
   "cell_type": "code",
   "execution_count": 34,
   "metadata": {},
   "outputs": [
    {
     "data": {
      "text/plain": [
       "<bound method StatementResult.data of <neo4j.v1.result.BoltStatementResult object at 0x10960d2b0>>"
      ]
     },
     "execution_count": 34,
     "metadata": {},
     "output_type": "execute_result"
    }
   ],
   "source": [
    "result.data"
   ]
  },
  {
   "cell_type": "code",
   "execution_count": null,
   "metadata": {
    "collapsed": true
   },
   "outputs": [],
   "source": []
  },
  {
   "cell_type": "code",
   "execution_count": null,
   "metadata": {
    "collapsed": true
   },
   "outputs": [],
   "source": []
  },
  {
   "cell_type": "code",
   "execution_count": 35,
   "metadata": {},
   "outputs": [
    {
     "ename": "ModuleNotFoundError",
     "evalue": "No module named 'graph_client'",
     "output_type": "error",
     "traceback": [
      "\u001b[0;31m---------------------------------------------------------------------------\u001b[0m",
      "\u001b[0;31mModuleNotFoundError\u001b[0m                       Traceback (most recent call last)",
      "\u001b[0;32m<ipython-input-35-7a071e328c44>\u001b[0m in \u001b[0;36m<module>\u001b[0;34m()\u001b[0m\n\u001b[0;32m----> 1\u001b[0;31m \u001b[0;32mfrom\u001b[0m \u001b[0mgraph_client\u001b[0m\u001b[0;34m.\u001b[0m\u001b[0mclient\u001b[0m\u001b[0;34m.\u001b[0m\u001b[0mneo_graph_client\u001b[0m \u001b[0;32mimport\u001b[0m \u001b[0mNeoGraphClient\u001b[0m\u001b[0;34m\u001b[0m\u001b[0m\n\u001b[0m",
      "\u001b[0;31mModuleNotFoundError\u001b[0m: No module named 'graph_client'"
     ]
    }
   ],
   "source": [
    "from graph_client.client.neo_graph_client import NeoGraphClient"
   ]
  },
  {
   "cell_type": "code",
   "execution_count": null,
   "metadata": {
    "collapsed": true
   },
   "outputs": [],
   "source": [
    "if __name__ == \"__main__\":\n",
    "    neogc = NeoGraphClient('t_g_id')\n",
    "\n",
    "    # print(neogc.get_edge_property('source_v_id', 'target_v_id','no_key'))\n",
    "\n",
    "    print(neogc.set_edge_property('source_set_vertex_id', 'target_set_vertex_id', 'set_edge_key', 'set_edge_value'))\n",
    "\n",
    "    # print(neogc.get_vertex_property('source_set_edge_id', 'vertex_id'))\n",
    "\n",
    "    # print(neogc.set_vertex_property('test_vertex', 'prop_key', 'prop_value'))\n"
   ]
  }
 ],
 "metadata": {
  "kernelspec": {
   "display_name": "Python 3",
   "language": "python",
   "name": "python3"
  },
  "language_info": {
   "codemirror_mode": {
    "name": "ipython",
    "version": 3
   },
   "file_extension": ".py",
   "mimetype": "text/x-python",
   "name": "python",
   "nbconvert_exporter": "python",
   "pygments_lexer": "ipython3",
   "version": "3.6.2"
  }
 },
 "nbformat": 4,
 "nbformat_minor": 2
}
